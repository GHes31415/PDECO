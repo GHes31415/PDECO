{
 "cells": [
  {
   "cell_type": "code",
   "execution_count": 1,
   "id": "66e8c228-64a0-4033-b311-873a7967f80f",
   "metadata": {},
   "outputs": [
    {
     "name": "stderr",
     "output_type": "stream",
     "text": [
      "[sciml:1387913] mca_base_component_repository_open: unable to open mca_btl_openib: librdmacm.so.1: cannot open shared object file: No such file or directory (ignored)\n"
     ]
    }
   ],
   "source": [
    "import dolfin as dl \n",
    "import matplotlib.pyplot as plt\n",
    "import numpy as np \n",
    "import hippylib as hp \n",
    "import ufl"
   ]
  },
  {
   "cell_type": "code",
   "execution_count": 2,
   "id": "ebd6b14f-3cd1-4345-ba04-ce6eed2168f7",
   "metadata": {},
   "outputs": [],
   "source": [
    "def draw_sample(GRF):\n",
    "    # initialize a vector of random noise\n",
    "    noise = dl.Vector()\n",
    "    GRF.init_vector(noise,\"noise\")\n",
    "    # draw a sample from standard normal distribution\n",
    "    hp.parRandom.normal(1., noise)\n",
    "    # initialize a sample of Gaussian random field (GRF)\n",
    "    sample = dl.Vector()\n",
    "    GRF.init_vector(sample, 0)\n",
    "    # draw a sample from GRF distribution\n",
    "    GRF.sample(noise, sample)\n",
    "    return sample"
   ]
  },
  {
   "cell_type": "code",
   "execution_count": 12,
   "id": "1d770ef0-aff1-418c-a940-a07d370e0e44",
   "metadata": {},
   "outputs": [],
   "source": [
    "nd = 1\n",
    "nx = 100\n",
    "mesh = dl.UnitIntervalMesh(nx)\n",
    "V = dl.FunctionSpace(mesh, 'Lagrange', 1)\n",
    "gamma = .1\n",
    "delta = .5\n",
    "GRF = hp.LaplacianPrior(V, gamma, delta)\n",
    "sample_d = draw_sample(GRF)+1.\n",
    "sample_g = draw_sample(GRF)\n"
   ]
  },
  {
   "cell_type": "code",
   "execution_count": 48,
   "id": "4d8dcc20-2d34-4822-bc86-79d20dd1b016",
   "metadata": {},
   "outputs": [],
   "source": [
    "d = hp.vector2Function(sample_d,V)\n",
    "exp_D= 0.1*ufl.exp(d)\n",
    "g = hp.vector2Function(sample_g,V)"
   ]
  },
  {
   "cell_type": "code",
   "execution_count": 49,
   "id": "14782010-bf9f-43c3-b53b-bdd88fa86013",
   "metadata": {},
   "outputs": [],
   "source": [
    "def boundary(x,on_boundary):\n",
    "    return on_boundary\n",
    "# Use the boundary to setup the DirichletBC \n",
    "u0 = dl.Constant(0.0)\n",
    "u_n = dl.interpolate(u0,V)\n",
    "# g = dl.Function(V)\n",
    "bc = dl.DirichletBC(V,u0,boundary)"
   ]
  },
  {
   "cell_type": "code",
   "execution_count": 50,
   "id": "34e0f90c-7afa-4200-872a-b12b6dd05ff5",
   "metadata": {},
   "outputs": [],
   "source": [
    "u = dl.TrialFunction(V)\n",
    "v = dl.TestFunction(V)\n",
    "# f = dl.Expression(\"10*exp(-(pow(x[0] - 0.5, 2) + pow(x[1] - 0.5, 2)) / 0.02)\",degree = 2)\n",
    "# g = dl.Expression(\"sin(5*x[0])\",degree = 2)\n",
    "a = (exp_D)*dl.inner(dl.grad(u),dl.grad(v))*dl.dx\n",
    "L = (u_n + g)*v*dl.dx\n",
    "\n",
    "A,b = dl.assemble_system(a,L,bc)\n",
    "\n",
    "u = dl.Function(V)"
   ]
  },
  {
   "cell_type": "code",
   "execution_count": 52,
   "id": "cb86cbb1",
   "metadata": {},
   "outputs": [
    {
     "data": {
      "text/plain": [
       "array([ 0.00000000e+00, -2.16065041e-02, -2.13679118e-02, -1.92350629e-02,\n",
       "       -1.72445176e-02, -1.96990533e-02, -2.06683241e-02, -2.19622680e-02,\n",
       "       -2.11519690e-02, -2.15631383e-02, -2.18749970e-02, -2.40645050e-02,\n",
       "       -2.46705186e-02, -2.33207054e-02, -2.13166529e-02, -2.06827327e-02,\n",
       "       -2.03386947e-02, -2.09408923e-02, -2.10571712e-02, -1.72189039e-02,\n",
       "       -1.57724989e-02, -1.29495607e-02, -1.42383004e-02, -1.57949539e-02,\n",
       "       -1.46220941e-02, -1.50432318e-02, -1.65908380e-02, -1.69435265e-02,\n",
       "       -1.86360129e-02, -1.94457656e-02, -1.63698561e-02, -1.56106737e-02,\n",
       "       -1.50613834e-02, -1.37618047e-02, -1.31026825e-02, -1.48092187e-02,\n",
       "       -1.42126555e-02, -1.15575966e-02, -1.00597383e-02, -1.04983891e-02,\n",
       "       -7.54418104e-03, -3.53796479e-03, -1.17028929e-03, -1.04842235e-03,\n",
       "       -3.41443363e-03, -3.58906556e-03, -1.75446040e-03, -4.88131428e-04,\n",
       "        9.23788965e-04,  6.31047021e-03,  7.70503423e-03,  8.76325265e-03,\n",
       "        9.67872507e-03,  9.86424788e-03,  9.37236525e-03,  7.44037516e-03,\n",
       "        5.51698014e-03,  2.86487243e-03,  1.90029648e-03,  2.91982440e-03,\n",
       "        2.52708848e-03,  3.23783500e-03, -7.37450608e-04, -2.76133532e-03,\n",
       "       -3.03616543e-04,  2.56770019e-03,  1.76217754e-03,  1.20363491e-03,\n",
       "        5.43464043e-06,  3.10463218e-03,  3.67819813e-03,  1.56758513e-03,\n",
       "        7.34242675e-04,  2.85484245e-03,  4.52522038e-03,  3.19949253e-03,\n",
       "        3.79945951e-03,  5.03769530e-03,  6.38905997e-03,  6.30392182e-03,\n",
       "        5.30308199e-03,  2.57542272e-03, -1.63681426e-03, -4.49006153e-03,\n",
       "       -4.98623725e-03, -2.08530146e-03,  5.66033905e-04, -2.52299504e-03,\n",
       "       -4.82478683e-03, -5.80714189e-03, -5.54764242e-03, -2.70371648e-03,\n",
       "       -2.47014497e-03, -5.02546413e-03, -4.19794998e-03, -3.32118758e-03,\n",
       "       -3.41972064e-03, -4.22100244e-03, -2.56531239e-03,  1.58753267e-03,\n",
       "        0.00000000e+00])"
      ]
     },
     "execution_count": 52,
     "metadata": {},
     "output_type": "execute_result"
    }
   ],
   "source": [
    "\n",
    "b.get_local()"
   ]
  },
  {
   "cell_type": "code",
   "execution_count": 54,
   "id": "656995bf",
   "metadata": {},
   "outputs": [
    {
     "data": {
      "text/plain": [
       "array([ 0.00000000e+00, -2.16065041e-02, -2.13679118e-02, -1.92350629e-02,\n",
       "       -1.72445176e-02, -1.96990533e-02, -2.06683241e-02, -2.19622680e-02,\n",
       "       -2.11519690e-02, -2.15631383e-02, -2.18749970e-02, -2.40645050e-02,\n",
       "       -2.46705186e-02, -2.33207054e-02, -2.13166529e-02, -2.06827327e-02,\n",
       "       -2.03386947e-02, -2.09408923e-02, -2.10571712e-02, -1.72189039e-02,\n",
       "       -1.57724989e-02, -1.29495607e-02, -1.42383004e-02, -1.57949539e-02,\n",
       "       -1.46220941e-02, -1.50432318e-02, -1.65908380e-02, -1.69435265e-02,\n",
       "       -1.86360129e-02, -1.94457656e-02, -1.63698561e-02, -1.56106737e-02,\n",
       "       -1.50613834e-02, -1.37618047e-02, -1.31026825e-02, -1.48092187e-02,\n",
       "       -1.42126555e-02, -1.15575966e-02, -1.00597383e-02, -1.04983891e-02,\n",
       "       -7.54418104e-03, -3.53796479e-03, -1.17028929e-03, -1.04842235e-03,\n",
       "       -3.41443363e-03, -3.58906556e-03, -1.75446040e-03, -4.88131428e-04,\n",
       "        9.23788965e-04,  6.31047021e-03,  7.70503423e-03,  8.76325265e-03,\n",
       "        9.67872507e-03,  9.86424788e-03,  9.37236525e-03,  7.44037516e-03,\n",
       "        5.51698014e-03,  2.86487243e-03,  1.90029648e-03,  2.91982440e-03,\n",
       "        2.52708848e-03,  3.23783500e-03, -7.37450608e-04, -2.76133532e-03,\n",
       "       -3.03616543e-04,  2.56770019e-03,  1.76217754e-03,  1.20363491e-03,\n",
       "        5.43464043e-06,  3.10463218e-03,  3.67819813e-03,  1.56758513e-03,\n",
       "        7.34242675e-04,  2.85484245e-03,  4.52522038e-03,  3.19949253e-03,\n",
       "        3.79945951e-03,  5.03769530e-03,  6.38905997e-03,  6.30392182e-03,\n",
       "        5.30308199e-03,  2.57542272e-03, -1.63681426e-03, -4.49006153e-03,\n",
       "       -4.98623725e-03, -2.08530146e-03,  5.66033905e-04, -2.52299504e-03,\n",
       "       -4.82478683e-03, -5.80714189e-03, -5.54764242e-03, -2.70371648e-03,\n",
       "       -2.47014497e-03, -5.02546413e-03, -4.19794998e-03, -3.32118758e-03,\n",
       "       -3.41972064e-03, -4.22100244e-03, -2.56531239e-03,  1.58753267e-03,\n",
       "        0.00000000e+00])"
      ]
     },
     "execution_count": 54,
     "metadata": {},
     "output_type": "execute_result"
    }
   ],
   "source": [
    "g.assign(dl.Constant(5.0))\n",
    "b.get_local()"
   ]
  },
  {
   "cell_type": "code",
   "execution_count": 55,
   "id": "38553b46",
   "metadata": {},
   "outputs": [
    {
     "data": {
      "text/plain": [
       "Coefficient(FunctionSpace(Mesh(VectorElement(FiniteElement('Lagrange', interval, 1), dim=1), 114), FiniteElement('Lagrange', interval, 1)), 275)"
      ]
     },
     "execution_count": 55,
     "metadata": {},
     "output_type": "execute_result"
    }
   ],
   "source": [
    "dl.Function(V)"
   ]
  },
  {
   "cell_type": "code",
   "execution_count": 45,
   "id": "dd2ffc80-4e5d-42c6-b80b-d24bd8fa28d9",
   "metadata": {},
   "outputs": [
    {
     "data": {
      "text/plain": [
       "1"
      ]
     },
     "execution_count": 45,
     "metadata": {},
     "output_type": "execute_result"
    }
   ],
   "source": [
    "dl.solve(A,u.vector(),b)"
   ]
  },
  {
   "cell_type": "code",
   "execution_count": 47,
   "id": "99c6bd2a-9557-4e4a-bb52-8997f0a17a4c",
   "metadata": {},
   "outputs": [
    {
     "data": {
      "image/png": "[encoded data removed]",
      "text/plain": [
       "<Figure size 640x480 with 1 Axes>"
      ]
     },
     "metadata": {},
     "output_type": "display_data"
    }
   ],
   "source": [
    "dl.plot(u)\n",
    "plt.show()"
   ]
  },
  {
   "cell_type": "code",
   "execution_count": 46,
   "id": "2aa25d8e-6387-4a43-8d26-86322668710d",
   "metadata": {},
   "outputs": [
    {
     "data": {
      "text/plain": [
       "Coefficient(FunctionSpace(Mesh(VectorElement(FiniteElement('Lagrange', interval, 1), dim=1), 114), FiniteElement('Lagrange', interval, 1)), 237)"
      ]
     },
     "execution_count": 46,
     "metadata": {},
     "output_type": "execute_result"
    }
   ],
   "source": [
    "u"
   ]
  },
  {
   "cell_type": "code",
   "execution_count": null,
   "id": "16cc5774",
   "metadata": {},
   "outputs": [],
   "source": []
  }
 ],
 "metadata": {
  "kernelspec": {
   "display_name": "Python 3 (ipykernel)",
   "language": "python",
   "name": "python3"
  },
  "language_info": {
   "codemirror_mode": {
    "name": "ipython",
    "version": 3
   },
   "file_extension": ".py",
   "mimetype": "text/x-python",
   "name": "python",
   "nbconvert_exporter": "python",
   "pygments_lexer": "ipython3",
   "version": "3.11.5"
  }
 },
 "nbformat": 4,
 "nbformat_minor": 5
}
