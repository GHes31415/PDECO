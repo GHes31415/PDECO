{
 "cells": [
  {
   "cell_type": "markdown",
   "metadata": {},
   "source": [
    "I'm following the code implementation for the heat equation with temporal control from :https://dolfin-adjoint-doc.readthedocs.io/en/latest/documentation/time-distributed-control/time-distributed-control.html"
   ]
  },
  {
   "cell_type": "code",
   "execution_count": 14,
   "metadata": {},
   "outputs": [],
   "source": [
    "from fenics import *\n",
    "# from fenics_adjoint import *\n",
    "from collections import OrderedDict\n",
    "from  dolfin import *"
   ]
  },
  {
   "cell_type": "code",
   "execution_count": 15,
   "metadata": {},
   "outputs": [],
   "source": [
    "nu = Constant(0.001)\n",
    "mesh = UnitSquareMesh(10, 10)\n",
    "V = VectorFunctionSpace(mesh, \"CG\", 1)\n",
    "\n",
    "dt = Constant(0.1)\n",
    "T = 2"
   ]
  },
  {
   "cell_type": "code",
   "execution_count": 16,
   "metadata": {},
   "outputs": [],
   "source": [
    "ctrls = OrderedDict()\n",
    "t = float(dt)\n",
    "while t <= T:\n",
    "    ctrls[t] = Function(V)\n",
    "    t += float(dt)"
   ]
  },
  {
   "cell_type": "code",
   "execution_count": 19,
   "metadata": {},
   "outputs": [],
   "source": [
    "def solve_heat(ctrls):\n",
    "    u = TrialFunction(V)\n",
    "    v = TestFunction(V)\n",
    "\n",
    "    f = Function(V)\n",
    "    u_0 = Function(V)\n",
    "    d = Function(V)\n",
    "\n",
    "    F = (inner(u - u_0, v) / dt + nu*inner(grad(u), grad(v)) - inner(f, v)) * dx\n",
    "    a,L = lhs(F), rhs(F)\n",
    "    bc = DirichletBC(V,0, \"on_boundary\")\n",
    "\n",
    "    t = float(dt)\n",
    "    while t <= T:\n",
    "        \n",
    "        f.assign(ctrls[t])\n",
    "        solve(a == L, u_0, bc)\n",
    "        t += float(dt)\n",
    "    return u_0"
   ]
  },
  {
   "cell_type": "code",
   "execution_count": 20,
   "metadata": {},
   "outputs": [
    {
     "ename": "RuntimeError",
     "evalue": "\n\n*** -------------------------------------------------------------------------\n*** DOLFIN encountered an error. If you are not able to resolve this issue\n*** using the information listed below, you can ask for help at\n***\n***     fenics-support@googlegroups.com\n***\n*** Remember to include the error message listed below and, if possible,\n*** include a *minimal* running example to reproduce the error.\n***\n*** -------------------------------------------------------------------------\n*** Error:   Unable to create Dirichlet boundary condition.\n*** Reason:  Expecting a vector-valued boundary value but given function is scalar.\n*** Where:   This error was encountered inside DirichletBC.cpp.\n*** Process: 0\n*** \n*** DOLFIN version: 2019.1.0\n*** Git changeset:  2e001bd1aae8e14d758264f77382245e6eed04b0\n*** -------------------------------------------------------------------------\n",
     "output_type": "error",
     "traceback": [
      "\u001b[0;31m---------------------------------------------------------------------------\u001b[0m",
      "\u001b[0;31mRuntimeError\u001b[0m                              Traceback (most recent call last)",
      "\u001b[1;32m/work2/Sebas/OUU_MIONET/PDECO/attemp1/time_dist_cont.ipynb Cell 6\u001b[0m line \u001b[0;36m1\n\u001b[0;32m----> <a href='vscode-notebook-cell://ssh-remote%2Bsciml.cc.gatech.edu/work2/Sebas/OUU_MIONET/PDECO/attemp1/time_dist_cont.ipynb#W5sdnNjb2RlLXJlbW90ZQ%3D%3D?line=0'>1</a>\u001b[0m u \u001b[39m=\u001b[39m solve_heat(ctrls)\n",
      "\u001b[1;32m/work2/Sebas/OUU_MIONET/PDECO/attemp1/time_dist_cont.ipynb Cell 6\u001b[0m line \u001b[0;36m1\n\u001b[1;32m      <a href='vscode-notebook-cell://ssh-remote%2Bsciml.cc.gatech.edu/work2/Sebas/OUU_MIONET/PDECO/attemp1/time_dist_cont.ipynb#W5sdnNjb2RlLXJlbW90ZQ%3D%3D?line=8'>9</a>\u001b[0m F \u001b[39m=\u001b[39m (inner(u \u001b[39m-\u001b[39m u_0, v) \u001b[39m/\u001b[39m dt \u001b[39m+\u001b[39m nu\u001b[39m*\u001b[39minner(grad(u), grad(v)) \u001b[39m-\u001b[39m inner(f, v)) \u001b[39m*\u001b[39m dx\n\u001b[1;32m     <a href='vscode-notebook-cell://ssh-remote%2Bsciml.cc.gatech.edu/work2/Sebas/OUU_MIONET/PDECO/attemp1/time_dist_cont.ipynb#W5sdnNjb2RlLXJlbW90ZQ%3D%3D?line=9'>10</a>\u001b[0m a,L \u001b[39m=\u001b[39m lhs(F), rhs(F)\n\u001b[0;32m---> <a href='vscode-notebook-cell://ssh-remote%2Bsciml.cc.gatech.edu/work2/Sebas/OUU_MIONET/PDECO/attemp1/time_dist_cont.ipynb#W5sdnNjb2RlLXJlbW90ZQ%3D%3D?line=10'>11</a>\u001b[0m bc \u001b[39m=\u001b[39m DirichletBC(V,\u001b[39m0\u001b[39;49m, \u001b[39m\"\u001b[39;49m\u001b[39mon_boundary\u001b[39;49m\u001b[39m\"\u001b[39;49m)\n\u001b[1;32m     <a href='vscode-notebook-cell://ssh-remote%2Bsciml.cc.gatech.edu/work2/Sebas/OUU_MIONET/PDECO/attemp1/time_dist_cont.ipynb#W5sdnNjb2RlLXJlbW90ZQ%3D%3D?line=12'>13</a>\u001b[0m t \u001b[39m=\u001b[39m \u001b[39mfloat\u001b[39m(dt)\n\u001b[1;32m     <a href='vscode-notebook-cell://ssh-remote%2Bsciml.cc.gatech.edu/work2/Sebas/OUU_MIONET/PDECO/attemp1/time_dist_cont.ipynb#W5sdnNjb2RlLXJlbW90ZQ%3D%3D?line=13'>14</a>\u001b[0m \u001b[39mwhile\u001b[39;00m t \u001b[39m<\u001b[39m\u001b[39m=\u001b[39m T:\n",
      "File \u001b[0;32m/work2/Sebas/anaconda3/envs/soupy/lib/python3.11/site-packages/dolfin/fem/dirichletbc.py:131\u001b[0m, in \u001b[0;36mDirichletBC.__init__\u001b[0;34m(self, *args, **kwargs)\u001b[0m\n\u001b[1;32m    128\u001b[0m \u001b[39mif\u001b[39;00m (\u001b[39mlen\u001b[39m(kwargs) \u001b[39m>\u001b[39m \u001b[39m0\u001b[39m):\n\u001b[1;32m    129\u001b[0m     \u001b[39mraise\u001b[39;00m \u001b[39mRuntimeError\u001b[39;00m(\u001b[39m\"\u001b[39m\u001b[39mInvalid keyword arguments\u001b[39m\u001b[39m\"\u001b[39m, kwargs)\n\u001b[0;32m--> 131\u001b[0m \u001b[39msuper\u001b[39;49m()\u001b[39m.\u001b[39;49m\u001b[39m__init__\u001b[39;49m(\u001b[39m*\u001b[39;49margs)\n",
      "\u001b[0;31mRuntimeError\u001b[0m: \n\n*** -------------------------------------------------------------------------\n*** DOLFIN encountered an error. If you are not able to resolve this issue\n*** using the information listed below, you can ask for help at\n***\n***     fenics-support@googlegroups.com\n***\n*** Remember to include the error message listed below and, if possible,\n*** include a *minimal* running example to reproduce the error.\n***\n*** -------------------------------------------------------------------------\n*** Error:   Unable to create Dirichlet boundary condition.\n*** Reason:  Expecting a vector-valued boundary value but given function is scalar.\n*** Where:   This error was encountered inside DirichletBC.cpp.\n*** Process: 0\n*** \n*** DOLFIN version: 2019.1.0\n*** Git changeset:  2e001bd1aae8e14d758264f77382245e6eed04b0\n*** -------------------------------------------------------------------------\n"
     ]
    }
   ],
   "source": [
    "u = solve_heat(ctrls)"
   ]
  },
  {
   "cell_type": "code",
   "execution_count": null,
   "metadata": {},
   "outputs": [],
   "source": []
  }
 ],
 "metadata": {
  "kernelspec": {
   "display_name": "soupy",
   "language": "python",
   "name": "python3"
  },
  "language_info": {
   "codemirror_mode": {
    "name": "ipython",
    "version": 3
   },
   "file_extension": ".py",
   "mimetype": "text/x-python",
   "name": "python",
   "nbconvert_exporter": "python",
   "pygments_lexer": "ipython3",
   "version": "3.11.5"
  }
 },
 "nbformat": 4,
 "nbformat_minor": 2
}
